{
 "cells": [
  {
   "cell_type": "markdown",
   "metadata": {
    "id": "WM63uis-6hLT"
   },
   "source": [
    "Grupo 03\n",
    "\n",
    "1.   Amanda Audi\n",
    "2.   Carina Dourado\n",
    "3.   Ingridy Silva\n",
    "4.   Larissa Sayuri Santos\n",
    "5.   Meyrele Torres\n",
    "6.   Victor Farias"
   ]
  },
  {
   "cell_type": "markdown",
   "metadata": {
    "id": "gCwKfWEHA3I-"
   },
   "source": [
    "Esse código faz os seguintes passos:\n",
    "\n",
    "9. Análise Descritiva dos dados processados."
   ]
  },
  {
   "cell_type": "code",
   "execution_count": null,
   "metadata": {
    "id": "R3NLDbOI7nB0"
   },
   "outputs": [],
   "source": [
    "# Bibliotecas\n",
    "import pandas as pd               # manipulação de dados\n",
    "import numpy as np                # manipulação de dados\n",
    "import seaborn as sns             # criação de gráficos"
   ]
  },
  {
   "cell_type": "code",
   "execution_count": null,
   "metadata": {
    "colab": {
     "base_uri": "https://localhost:8080/"
    },
    "executionInfo": {
     "elapsed": 18605,
     "status": "ok",
     "timestamp": 1639403571840,
     "user": {
      "displayName": "Larissa Sayuri Futino Castro Dos Santos",
      "photoUrl": "https://lh3.googleusercontent.com/a-/AOh14GjzQGcK2ufV__KxTdNAt_Q676drnxJRe6-8iwjLOEI=s64",
      "userId": "03270260930185135567"
     },
     "user_tz": 180
    },
    "id": "wv70tx1ucyrB",
    "outputId": "84958c65-95cc-46a1-8455-777fdd81b3e0"
   },
   "outputs": [
    {
     "name": "stdout",
     "output_type": "stream",
     "text": [
      "Mounted at /content/drive\n"
     ]
    }
   ],
   "source": [
    "# Fazendo a conexao com o google drive (aula Mineracao)\n",
    "from google.colab import drive\n",
    "drive.mount('/content/drive')"
   ]
  },
  {
   "cell_type": "code",
   "execution_count": null,
   "metadata": {
    "colab": {
     "base_uri": "https://localhost:8080/",
     "height": 312
    },
    "executionInfo": {
     "elapsed": 333,
     "status": "ok",
     "timestamp": 1639404793808,
     "user": {
      "displayName": "Larissa Sayuri Futino Castro Dos Santos",
      "photoUrl": "https://lh3.googleusercontent.com/a-/AOh14GjzQGcK2ufV__KxTdNAt_Q676drnxJRe6-8iwjLOEI=s64",
      "userId": "03270260930185135567"
     },
     "user_tz": 180
    },
    "id": "9soo3ZOZ6Tsu",
    "outputId": "6ecfd7fd-5b9e-4df3-81fa-8bbade2b21d0"
   },
   "outputs": [
    {
     "data": {
      "text/html": [
       "<div>\n",
       "<style scoped>\n",
       "    .dataframe tbody tr th:only-of-type {\n",
       "        vertical-align: middle;\n",
       "    }\n",
       "\n",
       "    .dataframe tbody tr th {\n",
       "        vertical-align: top;\n",
       "    }\n",
       "\n",
       "    .dataframe thead th {\n",
       "        text-align: right;\n",
       "    }\n",
       "</style>\n",
       "<table border=\"1\" class=\"dataframe\">\n",
       "  <thead>\n",
       "    <tr style=\"text-align: right;\">\n",
       "      <th></th>\n",
       "      <th>index</th>\n",
       "      <th>ano</th>\n",
       "      <th>data</th>\n",
       "      <th>rodada</th>\n",
       "      <th>time</th>\n",
       "      <th>tecnico</th>\n",
       "      <th>colocacao</th>\n",
       "      <th>gols</th>\n",
       "      <th>total_gols</th>\n",
       "      <th>gols_outro_time</th>\n",
       "      <th>dif_gols</th>\n",
       "      <th>derrota</th>\n",
       "      <th>empate</th>\n",
       "      <th>vitoria</th>\n",
       "      <th>der_acum_ult5</th>\n",
       "      <th>emp_acum_ult5</th>\n",
       "      <th>vit_acum_ult5</th>\n",
       "      <th>vit_acum_tot</th>\n",
       "      <th>emp_acum_tot</th>\n",
       "      <th>der_acum_tot</th>\n",
       "      <th>id_tecnico</th>\n",
       "      <th>id_tecnico_lagged</th>\n",
       "      <th>demissao</th>\n",
       "      <th>Comeco</th>\n",
       "      <th>Interino</th>\n",
       "      <th>tempo_tec</th>\n",
       "    </tr>\n",
       "  </thead>\n",
       "  <tbody>\n",
       "    <tr>\n",
       "      <th>0</th>\n",
       "      <td>5896</td>\n",
       "      <td>2018</td>\n",
       "      <td>2018-04-15</td>\n",
       "      <td>1</td>\n",
       "      <td>Atlético-MG</td>\n",
       "      <td>Thiago Larghi</td>\n",
       "      <td>13.0</td>\n",
       "      <td>1.0</td>\n",
       "      <td>3.0</td>\n",
       "      <td>2.0</td>\n",
       "      <td>-1.0</td>\n",
       "      <td>1</td>\n",
       "      <td>0</td>\n",
       "      <td>0</td>\n",
       "      <td>1</td>\n",
       "      <td>0</td>\n",
       "      <td>0</td>\n",
       "      <td>0</td>\n",
       "      <td>0</td>\n",
       "      <td>1</td>\n",
       "      <td>1.0</td>\n",
       "      <td>1.0</td>\n",
       "      <td>0.0</td>\n",
       "      <td>2018-02-09</td>\n",
       "      <td>0</td>\n",
       "      <td>65 days</td>\n",
       "    </tr>\n",
       "    <tr>\n",
       "      <th>1</th>\n",
       "      <td>5903</td>\n",
       "      <td>2018</td>\n",
       "      <td>2018-04-22</td>\n",
       "      <td>2</td>\n",
       "      <td>Atlético-MG</td>\n",
       "      <td>Thiago Larghi</td>\n",
       "      <td>13.0</td>\n",
       "      <td>2.0</td>\n",
       "      <td>3.0</td>\n",
       "      <td>1.0</td>\n",
       "      <td>1.0</td>\n",
       "      <td>0</td>\n",
       "      <td>0</td>\n",
       "      <td>1</td>\n",
       "      <td>1</td>\n",
       "      <td>0</td>\n",
       "      <td>1</td>\n",
       "      <td>1</td>\n",
       "      <td>0</td>\n",
       "      <td>1</td>\n",
       "      <td>1.0</td>\n",
       "      <td>1.0</td>\n",
       "      <td>0.0</td>\n",
       "      <td>2018-02-09</td>\n",
       "      <td>0</td>\n",
       "      <td>72 days</td>\n",
       "    </tr>\n",
       "    <tr>\n",
       "      <th>2</th>\n",
       "      <td>5911</td>\n",
       "      <td>2018</td>\n",
       "      <td>2018-04-29</td>\n",
       "      <td>3</td>\n",
       "      <td>Atlético-MG</td>\n",
       "      <td>Thiago Larghi</td>\n",
       "      <td>11.0</td>\n",
       "      <td>1.0</td>\n",
       "      <td>1.0</td>\n",
       "      <td>0.0</td>\n",
       "      <td>1.0</td>\n",
       "      <td>0</td>\n",
       "      <td>0</td>\n",
       "      <td>1</td>\n",
       "      <td>1</td>\n",
       "      <td>0</td>\n",
       "      <td>2</td>\n",
       "      <td>2</td>\n",
       "      <td>0</td>\n",
       "      <td>1</td>\n",
       "      <td>1.0</td>\n",
       "      <td>1.0</td>\n",
       "      <td>0.0</td>\n",
       "      <td>2018-02-09</td>\n",
       "      <td>0</td>\n",
       "      <td>79 days</td>\n",
       "    </tr>\n",
       "    <tr>\n",
       "      <th>3</th>\n",
       "      <td>5921</td>\n",
       "      <td>2018</td>\n",
       "      <td>2018-05-06</td>\n",
       "      <td>4</td>\n",
       "      <td>Atlético-MG</td>\n",
       "      <td>Thiago Larghi</td>\n",
       "      <td>4.0</td>\n",
       "      <td>2.0</td>\n",
       "      <td>4.0</td>\n",
       "      <td>2.0</td>\n",
       "      <td>0.0</td>\n",
       "      <td>0</td>\n",
       "      <td>1</td>\n",
       "      <td>0</td>\n",
       "      <td>1</td>\n",
       "      <td>1</td>\n",
       "      <td>2</td>\n",
       "      <td>2</td>\n",
       "      <td>1</td>\n",
       "      <td>1</td>\n",
       "      <td>1.0</td>\n",
       "      <td>1.0</td>\n",
       "      <td>0.0</td>\n",
       "      <td>2018-02-09</td>\n",
       "      <td>0</td>\n",
       "      <td>86 days</td>\n",
       "    </tr>\n",
       "    <tr>\n",
       "      <th>4</th>\n",
       "      <td>5935</td>\n",
       "      <td>2018</td>\n",
       "      <td>2018-05-13</td>\n",
       "      <td>5</td>\n",
       "      <td>Atlético-MG</td>\n",
       "      <td>Thiago Larghi</td>\n",
       "      <td>6.0</td>\n",
       "      <td>2.0</td>\n",
       "      <td>3.0</td>\n",
       "      <td>1.0</td>\n",
       "      <td>1.0</td>\n",
       "      <td>0</td>\n",
       "      <td>0</td>\n",
       "      <td>1</td>\n",
       "      <td>1</td>\n",
       "      <td>1</td>\n",
       "      <td>3</td>\n",
       "      <td>3</td>\n",
       "      <td>1</td>\n",
       "      <td>1</td>\n",
       "      <td>1.0</td>\n",
       "      <td>1.0</td>\n",
       "      <td>0.0</td>\n",
       "      <td>2018-02-09</td>\n",
       "      <td>0</td>\n",
       "      <td>93 days</td>\n",
       "    </tr>\n",
       "  </tbody>\n",
       "</table>\n",
       "</div>"
      ],
      "text/plain": [
       "   index   ano        data  rodada  ... demissao      Comeco  Interino  tempo_tec\n",
       "0   5896  2018  2018-04-15       1  ...      0.0  2018-02-09         0    65 days\n",
       "1   5903  2018  2018-04-22       2  ...      0.0  2018-02-09         0    72 days\n",
       "2   5911  2018  2018-04-29       3  ...      0.0  2018-02-09         0    79 days\n",
       "3   5921  2018  2018-05-06       4  ...      0.0  2018-02-09         0    86 days\n",
       "4   5935  2018  2018-05-13       5  ...      0.0  2018-02-09         0    93 days\n",
       "\n",
       "[5 rows x 26 columns]"
      ]
     },
     "execution_count": 31,
     "metadata": {},
     "output_type": "execute_result"
    }
   ],
   "source": [
    "# Lendo os dados\n",
    "path = \"XXX\"\n",
    "arq = \"dados_processados.csv\"\n",
    "\n",
    "dados = pd.read_csv(path + arq)\n",
    "dados.head()"
   ]
  },
  {
   "cell_type": "markdown",
   "metadata": {
    "id": "nhusm6rxc1ya"
   },
   "source": [
    "# Quais os técnicos mais rodados?\n",
    "\n"
   ]
  },
  {
   "cell_type": "code",
   "execution_count": null,
   "metadata": {
    "colab": {
     "base_uri": "https://localhost:8080/",
     "height": 205
    },
    "executionInfo": {
     "elapsed": 357,
     "status": "ok",
     "timestamp": 1639404797996,
     "user": {
      "displayName": "Larissa Sayuri Futino Castro Dos Santos",
      "photoUrl": "https://lh3.googleusercontent.com/a-/AOh14GjzQGcK2ufV__KxTdNAt_Q676drnxJRe6-8iwjLOEI=s64",
      "userId": "03270260930185135567"
     },
     "user_tz": 180
    },
    "id": "WKsN6Qhn83dh",
    "outputId": "e30750e3-80fa-453f-ab4d-5c42dd9b67f5"
   },
   "outputs": [
    {
     "data": {
      "text/html": [
       "<div>\n",
       "<style scoped>\n",
       "    .dataframe tbody tr th:only-of-type {\n",
       "        vertical-align: middle;\n",
       "    }\n",
       "\n",
       "    .dataframe tbody tr th {\n",
       "        vertical-align: top;\n",
       "    }\n",
       "\n",
       "    .dataframe thead th {\n",
       "        text-align: right;\n",
       "    }\n",
       "</style>\n",
       "<table border=\"1\" class=\"dataframe\">\n",
       "  <thead>\n",
       "    <tr style=\"text-align: right;\">\n",
       "      <th></th>\n",
       "      <th>tecnico</th>\n",
       "      <th>num_time</th>\n",
       "    </tr>\n",
       "  </thead>\n",
       "  <tbody>\n",
       "    <tr>\n",
       "      <th>0</th>\n",
       "      <td>Abel Braga</td>\n",
       "      <td>3</td>\n",
       "    </tr>\n",
       "    <tr>\n",
       "      <th>22</th>\n",
       "      <td>Jair Ventura</td>\n",
       "      <td>2</td>\n",
       "    </tr>\n",
       "    <tr>\n",
       "      <th>47</th>\n",
       "      <td>Vágner Mancini</td>\n",
       "      <td>2</td>\n",
       "    </tr>\n",
       "    <tr>\n",
       "      <th>42</th>\n",
       "      <td>Rogério Ceni</td>\n",
       "      <td>2</td>\n",
       "    </tr>\n",
       "    <tr>\n",
       "      <th>28</th>\n",
       "      <td>Mano Menezes</td>\n",
       "      <td>2</td>\n",
       "    </tr>\n",
       "  </tbody>\n",
       "</table>\n",
       "</div>"
      ],
      "text/plain": [
       "           tecnico  num_time\n",
       "0       Abel Braga         3\n",
       "22    Jair Ventura         2\n",
       "47  Vágner Mancini         2\n",
       "42    Rogério Ceni         2\n",
       "28    Mano Menezes         2"
      ]
     },
     "execution_count": 32,
     "metadata": {},
     "output_type": "execute_result"
    }
   ],
   "source": [
    "# Numero de times por tecnico\n",
    "times_tec = dados.groupby(['tecnico'], as_index = False).agg({\"time\": \"nunique\"})\n",
    "times_tec = times_tec.rename({'time':'num_time'}, axis = 'columns')\n",
    "times_tec = times_tec.sort_values(by = \"num_time\", ascending = False)\n",
    "times_tec.head(5)"
   ]
  },
  {
   "cell_type": "markdown",
   "metadata": {
    "id": "RpS-ZQVV-leu"
   },
   "source": [
    "# Quais os times que mais demitem?/Quais time tiveram mais técnicos?"
   ]
  },
  {
   "cell_type": "code",
   "execution_count": null,
   "metadata": {
    "colab": {
     "base_uri": "https://localhost:8080/",
     "height": 362
    },
    "executionInfo": {
     "elapsed": 260,
     "status": "ok",
     "timestamp": 1639404801832,
     "user": {
      "displayName": "Larissa Sayuri Futino Castro Dos Santos",
      "photoUrl": "https://lh3.googleusercontent.com/a-/AOh14GjzQGcK2ufV__KxTdNAt_Q676drnxJRe6-8iwjLOEI=s64",
      "userId": "03270260930185135567"
     },
     "user_tz": 180
    },
    "id": "j-T3t1yG-KXm",
    "outputId": "bfe3a976-89e3-46ef-ff64-3d4ff4f26e3e"
   },
   "outputs": [
    {
     "data": {
      "text/html": [
       "<div>\n",
       "<style scoped>\n",
       "    .dataframe tbody tr th:only-of-type {\n",
       "        vertical-align: middle;\n",
       "    }\n",
       "\n",
       "    .dataframe tbody tr th {\n",
       "        vertical-align: top;\n",
       "    }\n",
       "\n",
       "    .dataframe thead th {\n",
       "        text-align: right;\n",
       "    }\n",
       "</style>\n",
       "<table border=\"1\" class=\"dataframe\">\n",
       "  <thead>\n",
       "    <tr style=\"text-align: right;\">\n",
       "      <th></th>\n",
       "      <th>time</th>\n",
       "      <th>num_tecnico</th>\n",
       "    </tr>\n",
       "  </thead>\n",
       "  <tbody>\n",
       "    <tr>\n",
       "      <th>1</th>\n",
       "      <td>Botafogo</td>\n",
       "      <td>10</td>\n",
       "    </tr>\n",
       "    <tr>\n",
       "      <th>4</th>\n",
       "      <td>Flamengo</td>\n",
       "      <td>7</td>\n",
       "    </tr>\n",
       "    <tr>\n",
       "      <th>7</th>\n",
       "      <td>Palmeiras</td>\n",
       "      <td>7</td>\n",
       "    </tr>\n",
       "    <tr>\n",
       "      <th>2</th>\n",
       "      <td>Corinthians</td>\n",
       "      <td>6</td>\n",
       "    </tr>\n",
       "    <tr>\n",
       "      <th>8</th>\n",
       "      <td>Sport Recife</td>\n",
       "      <td>6</td>\n",
       "    </tr>\n",
       "    <tr>\n",
       "      <th>0</th>\n",
       "      <td>Atlético-MG</td>\n",
       "      <td>5</td>\n",
       "    </tr>\n",
       "    <tr>\n",
       "      <th>3</th>\n",
       "      <td>Cruzeiro</td>\n",
       "      <td>5</td>\n",
       "    </tr>\n",
       "    <tr>\n",
       "      <th>6</th>\n",
       "      <td>Internacional</td>\n",
       "      <td>5</td>\n",
       "    </tr>\n",
       "    <tr>\n",
       "      <th>9</th>\n",
       "      <td>São Paulo</td>\n",
       "      <td>5</td>\n",
       "    </tr>\n",
       "    <tr>\n",
       "      <th>5</th>\n",
       "      <td>Grêmio</td>\n",
       "      <td>1</td>\n",
       "    </tr>\n",
       "  </tbody>\n",
       "</table>\n",
       "</div>"
      ],
      "text/plain": [
       "            time  num_tecnico\n",
       "1       Botafogo           10\n",
       "4       Flamengo            7\n",
       "7      Palmeiras            7\n",
       "2    Corinthians            6\n",
       "8   Sport Recife            6\n",
       "0    Atlético-MG            5\n",
       "3       Cruzeiro            5\n",
       "6  Internacional            5\n",
       "9      São Paulo            5\n",
       "5         Grêmio            1"
      ]
     },
     "execution_count": 33,
     "metadata": {},
     "output_type": "execute_result"
    }
   ],
   "source": [
    "# Numero de tecnicos por time\n",
    "tec_time = dados.groupby(['time'], as_index = False).agg({\"tecnico\": \"nunique\"})\n",
    "tec_time = tec_time.rename({'tecnico':'num_tecnico'}, axis = 'columns')\n",
    "tec_time = tec_time.sort_values(by = \"num_tecnico\", ascending = False)\n",
    "tec_time.head(10)"
   ]
  },
  {
   "cell_type": "markdown",
   "metadata": {
    "id": "U6Wkikelc88p"
   },
   "source": [
    "# Qual técnico ficou mais tempo?"
   ]
  },
  {
   "cell_type": "code",
   "execution_count": null,
   "metadata": {
    "id": "p1GdFWiCIEEV"
   },
   "outputs": [],
   "source": [
    "# Transformando variável tempo_tec em float\n",
    "dados['tempo_tec'] = dados['tempo_tec'].str.replace (' days', '')\n",
    "dados['tempo_tec'] = dados['tempo_tec'].astype(float)"
   ]
  },
  {
   "cell_type": "code",
   "execution_count": null,
   "metadata": {
    "colab": {
     "base_uri": "https://localhost:8080/",
     "height": 362
    },
    "executionInfo": {
     "elapsed": 276,
     "status": "ok",
     "timestamp": 1639405322020,
     "user": {
      "displayName": "Larissa Sayuri Futino Castro Dos Santos",
      "photoUrl": "https://lh3.googleusercontent.com/a-/AOh14GjzQGcK2ufV__KxTdNAt_Q676drnxJRe6-8iwjLOEI=s64",
      "userId": "03270260930185135567"
     },
     "user_tz": 180
    },
    "id": "nSQ4jYYSXeDg",
    "outputId": "3313aeee-bfb1-4ca2-8e92-a9a51f8ef726"
   },
   "outputs": [
    {
     "data": {
      "text/html": [
       "<div>\n",
       "<style scoped>\n",
       "    .dataframe tbody tr th:only-of-type {\n",
       "        vertical-align: middle;\n",
       "    }\n",
       "\n",
       "    .dataframe tbody tr th {\n",
       "        vertical-align: top;\n",
       "    }\n",
       "\n",
       "    .dataframe thead th {\n",
       "        text-align: right;\n",
       "    }\n",
       "</style>\n",
       "<table border=\"1\" class=\"dataframe\">\n",
       "  <thead>\n",
       "    <tr style=\"text-align: right;\">\n",
       "      <th></th>\n",
       "      <th>tecnico</th>\n",
       "      <th>time</th>\n",
       "      <th>tempo_tec</th>\n",
       "    </tr>\n",
       "  </thead>\n",
       "  <tbody>\n",
       "    <tr>\n",
       "      <th>41</th>\n",
       "      <td>Renato Gaúcho</td>\n",
       "      <td>Grêmio</td>\n",
       "      <td>1621.0</td>\n",
       "    </tr>\n",
       "    <tr>\n",
       "      <th>31</th>\n",
       "      <td>Mano Menezes</td>\n",
       "      <td>Cruzeiro</td>\n",
       "      <td>1105.0</td>\n",
       "    </tr>\n",
       "    <tr>\n",
       "      <th>38</th>\n",
       "      <td>Odair Hellmann</td>\n",
       "      <td>Internacional</td>\n",
       "      <td>695.0</td>\n",
       "    </tr>\n",
       "    <tr>\n",
       "      <th>23</th>\n",
       "      <td>Fábio Carille</td>\n",
       "      <td>Corinthians</td>\n",
       "      <td>514.0</td>\n",
       "    </tr>\n",
       "    <tr>\n",
       "      <th>21</th>\n",
       "      <td>Fernando Diniz</td>\n",
       "      <td>São Paulo</td>\n",
       "      <td>493.0</td>\n",
       "    </tr>\n",
       "    <tr>\n",
       "      <th>29</th>\n",
       "      <td>Luiz Felipe Scolari</td>\n",
       "      <td>Palmeiras</td>\n",
       "      <td>394.0</td>\n",
       "    </tr>\n",
       "    <tr>\n",
       "      <th>27</th>\n",
       "      <td>Jorge Sampaoli</td>\n",
       "      <td>Atlético-MG</td>\n",
       "      <td>354.0</td>\n",
       "    </tr>\n",
       "    <tr>\n",
       "      <th>18</th>\n",
       "      <td>Eduardo Coudet</td>\n",
       "      <td>Internacional</td>\n",
       "      <td>329.0</td>\n",
       "    </tr>\n",
       "    <tr>\n",
       "      <th>50</th>\n",
       "      <td>Vanderlei Luxemburgo</td>\n",
       "      <td>Palmeiras</td>\n",
       "      <td>304.0</td>\n",
       "    </tr>\n",
       "    <tr>\n",
       "      <th>49</th>\n",
       "      <td>Tiago Nunes</td>\n",
       "      <td>Corinthians</td>\n",
       "      <td>277.0</td>\n",
       "    </tr>\n",
       "  </tbody>\n",
       "</table>\n",
       "</div>"
      ],
      "text/plain": [
       "                 tecnico           time  tempo_tec\n",
       "41         Renato Gaúcho         Grêmio     1621.0\n",
       "31          Mano Menezes       Cruzeiro     1105.0\n",
       "38        Odair Hellmann  Internacional      695.0\n",
       "23         Fábio Carille    Corinthians      514.0\n",
       "21        Fernando Diniz      São Paulo      493.0\n",
       "29   Luiz Felipe Scolari      Palmeiras      394.0\n",
       "27        Jorge Sampaoli    Atlético-MG      354.0\n",
       "18        Eduardo Coudet  Internacional      329.0\n",
       "50  Vanderlei Luxemburgo      Palmeiras      304.0\n",
       "49           Tiago Nunes    Corinthians      277.0"
      ]
     },
     "execution_count": 46,
     "metadata": {},
     "output_type": "execute_result"
    }
   ],
   "source": [
    "tempo_tec = dados.groupby(['tecnico', 'time'], as_index = False).agg({\"tempo_tec\": \"max\"}) # nunique\n",
    "tempo_tec = tempo_tec.sort_values(by = \"tempo_tec\", ascending = False)\n",
    "tempo_tec.head(10)"
   ]
  },
  {
   "cell_type": "markdown",
   "metadata": {
    "id": "NxTNge7ldFJi"
   },
   "source": [
    "# Qual o número de dias que um técnico fica em um time?"
   ]
  },
  {
   "cell_type": "code",
   "execution_count": null,
   "metadata": {
    "colab": {
     "base_uri": "https://localhost:8080/",
     "height": 205
    },
    "executionInfo": {
     "elapsed": 312,
     "status": "ok",
     "timestamp": 1639406166887,
     "user": {
      "displayName": "Larissa Sayuri Futino Castro Dos Santos",
      "photoUrl": "https://lh3.googleusercontent.com/a-/AOh14GjzQGcK2ufV__KxTdNAt_Q676drnxJRe6-8iwjLOEI=s64",
      "userId": "03270260930185135567"
     },
     "user_tz": 180
    },
    "id": "dtLER3pBNlU2",
    "outputId": "d17aa34f-7b43-4158-ac91-ecaa6513ceab"
   },
   "outputs": [
    {
     "data": {
      "text/html": [
       "<div>\n",
       "<style scoped>\n",
       "    .dataframe tbody tr th:only-of-type {\n",
       "        vertical-align: middle;\n",
       "    }\n",
       "\n",
       "    .dataframe tbody tr th {\n",
       "        vertical-align: top;\n",
       "    }\n",
       "\n",
       "    .dataframe thead th {\n",
       "        text-align: right;\n",
       "    }\n",
       "</style>\n",
       "<table border=\"1\" class=\"dataframe\">\n",
       "  <thead>\n",
       "    <tr style=\"text-align: right;\">\n",
       "      <th></th>\n",
       "      <th>tempo_tec</th>\n",
       "    </tr>\n",
       "  </thead>\n",
       "  <tbody>\n",
       "    <tr>\n",
       "      <th>min</th>\n",
       "      <td>0.000000</td>\n",
       "    </tr>\n",
       "    <tr>\n",
       "      <th>mean</th>\n",
       "      <td>190.436364</td>\n",
       "    </tr>\n",
       "    <tr>\n",
       "      <th>median</th>\n",
       "      <td>109.000000</td>\n",
       "    </tr>\n",
       "    <tr>\n",
       "      <th>max</th>\n",
       "      <td>1621.000000</td>\n",
       "    </tr>\n",
       "    <tr>\n",
       "      <th>std</th>\n",
       "      <td>274.482190</td>\n",
       "    </tr>\n",
       "  </tbody>\n",
       "</table>\n",
       "</div>"
      ],
      "text/plain": [
       "          tempo_tec\n",
       "min        0.000000\n",
       "mean     190.436364\n",
       "median   109.000000\n",
       "max     1621.000000\n",
       "std      274.482190"
      ]
     },
     "execution_count": 54,
     "metadata": {},
     "output_type": "execute_result"
    }
   ],
   "source": [
    "# Métricas \n",
    "metrics_list = ['min', 'mean', 'median', 'max', 'std']\n",
    "tempo_tec.agg({'tempo_tec': metrics_list})"
   ]
  },
  {
   "cell_type": "code",
   "execution_count": null,
   "metadata": {
    "colab": {
     "base_uri": "https://localhost:8080/"
    },
    "executionInfo": {
     "elapsed": 8,
     "status": "ok",
     "timestamp": 1639406175962,
     "user": {
      "displayName": "Larissa Sayuri Futino Castro Dos Santos",
      "photoUrl": "https://lh3.googleusercontent.com/a-/AOh14GjzQGcK2ufV__KxTdNAt_Q676drnxJRe6-8iwjLOEI=s64",
      "userId": "03270260930185135567"
     },
     "user_tz": 180
    },
    "id": "fsAIuN4qNHsO",
    "outputId": "d2320288-9aa0-4a00-c92f-94d570d3552f"
   },
   "outputs": [
    {
     "data": {
      "text/plain": [
       "0.01       4.86\n",
       "0.05      10.00\n",
       "0.10      17.40\n",
       "0.25      44.00\n",
       "0.50     109.00\n",
       "0.75     211.00\n",
       "0.90     378.00\n",
       "0.95     568.30\n",
       "0.99    1342.36\n",
       "Name: tempo_tec, dtype: float64"
      ]
     },
     "execution_count": 55,
     "metadata": {},
     "output_type": "execute_result"
    }
   ],
   "source": [
    "# Quantis\n",
    "tempo_tec[\"tempo_tec\"].quantile([.01, .05, .1, .25, .5, .75, .9, .95, .99])"
   ]
  },
  {
   "cell_type": "code",
   "execution_count": null,
   "metadata": {
    "colab": {
     "base_uri": "https://localhost:8080/",
     "height": 1000
    },
    "executionInfo": {
     "elapsed": 312,
     "status": "ok",
     "timestamp": 1639411517501,
     "user": {
      "displayName": "Larissa Sayuri Futino Castro Dos Santos",
      "photoUrl": "https://lh3.googleusercontent.com/a-/AOh14GjzQGcK2ufV__KxTdNAt_Q676drnxJRe6-8iwjLOEI=s64",
      "userId": "03270260930185135567"
     },
     "user_tz": 180
    },
    "id": "fXVrh8I6QY2g",
    "outputId": "11aa3169-e650-4529-963b-ef1f27901106"
   },
   "outputs": [
    {
     "data": {
      "text/html": [
       "<div>\n",
       "<style scoped>\n",
       "    .dataframe tbody tr th:only-of-type {\n",
       "        vertical-align: middle;\n",
       "    }\n",
       "\n",
       "    .dataframe tbody tr th {\n",
       "        vertical-align: top;\n",
       "    }\n",
       "\n",
       "    .dataframe thead th {\n",
       "        text-align: right;\n",
       "    }\n",
       "</style>\n",
       "<table border=\"1\" class=\"dataframe\">\n",
       "  <thead>\n",
       "    <tr style=\"text-align: right;\">\n",
       "      <th></th>\n",
       "      <th>tecnico</th>\n",
       "      <th>time</th>\n",
       "      <th>tempo_tec</th>\n",
       "      <th>tem_tec_classe</th>\n",
       "    </tr>\n",
       "  </thead>\n",
       "  <tbody>\n",
       "    <tr>\n",
       "      <th>41</th>\n",
       "      <td>Renato Gaúcho</td>\n",
       "      <td>Grêmio</td>\n",
       "      <td>1621.0</td>\n",
       "      <td>&gt;24</td>\n",
       "    </tr>\n",
       "    <tr>\n",
       "      <th>31</th>\n",
       "      <td>Mano Menezes</td>\n",
       "      <td>Cruzeiro</td>\n",
       "      <td>1105.0</td>\n",
       "      <td>&gt;24</td>\n",
       "    </tr>\n",
       "    <tr>\n",
       "      <th>38</th>\n",
       "      <td>Odair Hellmann</td>\n",
       "      <td>Internacional</td>\n",
       "      <td>695.0</td>\n",
       "      <td>12a24</td>\n",
       "    </tr>\n",
       "    <tr>\n",
       "      <th>23</th>\n",
       "      <td>Fábio Carille</td>\n",
       "      <td>Corinthians</td>\n",
       "      <td>514.0</td>\n",
       "      <td>12a24</td>\n",
       "    </tr>\n",
       "    <tr>\n",
       "      <th>21</th>\n",
       "      <td>Fernando Diniz</td>\n",
       "      <td>São Paulo</td>\n",
       "      <td>493.0</td>\n",
       "      <td>12a24</td>\n",
       "    </tr>\n",
       "    <tr>\n",
       "      <th>29</th>\n",
       "      <td>Luiz Felipe Scolari</td>\n",
       "      <td>Palmeiras</td>\n",
       "      <td>394.0</td>\n",
       "      <td>12a24</td>\n",
       "    </tr>\n",
       "    <tr>\n",
       "      <th>27</th>\n",
       "      <td>Jorge Sampaoli</td>\n",
       "      <td>Atlético-MG</td>\n",
       "      <td>354.0</td>\n",
       "      <td>06a12</td>\n",
       "    </tr>\n",
       "    <tr>\n",
       "      <th>18</th>\n",
       "      <td>Eduardo Coudet</td>\n",
       "      <td>Internacional</td>\n",
       "      <td>329.0</td>\n",
       "      <td>06a12</td>\n",
       "    </tr>\n",
       "    <tr>\n",
       "      <th>50</th>\n",
       "      <td>Vanderlei Luxemburgo</td>\n",
       "      <td>Palmeiras</td>\n",
       "      <td>304.0</td>\n",
       "      <td>06a12</td>\n",
       "    </tr>\n",
       "    <tr>\n",
       "      <th>49</th>\n",
       "      <td>Tiago Nunes</td>\n",
       "      <td>Corinthians</td>\n",
       "      <td>277.0</td>\n",
       "      <td>06a12</td>\n",
       "    </tr>\n",
       "    <tr>\n",
       "      <th>48</th>\n",
       "      <td>Thiago Larghi</td>\n",
       "      <td>Atlético-MG</td>\n",
       "      <td>248.0</td>\n",
       "      <td>06a12</td>\n",
       "    </tr>\n",
       "    <tr>\n",
       "      <th>45</th>\n",
       "      <td>Roger Machado</td>\n",
       "      <td>Palmeiras</td>\n",
       "      <td>246.0</td>\n",
       "      <td>06a12</td>\n",
       "    </tr>\n",
       "    <tr>\n",
       "      <th>13</th>\n",
       "      <td>Diego Aguirre</td>\n",
       "      <td>São Paulo</td>\n",
       "      <td>240.0</td>\n",
       "      <td>06a12</td>\n",
       "    </tr>\n",
       "    <tr>\n",
       "      <th>40</th>\n",
       "      <td>Paulo Autuori</td>\n",
       "      <td>Botafogo</td>\n",
       "      <td>232.0</td>\n",
       "      <td>06a12</td>\n",
       "    </tr>\n",
       "    <tr>\n",
       "      <th>12</th>\n",
       "      <td>Daniel Paulista</td>\n",
       "      <td>Sport Recife</td>\n",
       "      <td>190.0</td>\n",
       "      <td>06a12</td>\n",
       "    </tr>\n",
       "    <tr>\n",
       "      <th>25</th>\n",
       "      <td>Jair Ventura</td>\n",
       "      <td>Sport Recife</td>\n",
       "      <td>186.0</td>\n",
       "      <td>06a12</td>\n",
       "    </tr>\n",
       "    <tr>\n",
       "      <th>44</th>\n",
       "      <td>Rodrigo Santana</td>\n",
       "      <td>Atlético-MG</td>\n",
       "      <td>185.0</td>\n",
       "      <td>06a12</td>\n",
       "    </tr>\n",
       "    <tr>\n",
       "      <th>11</th>\n",
       "      <td>Cuca</td>\n",
       "      <td>São Paulo</td>\n",
       "      <td>178.0</td>\n",
       "      <td>03a06</td>\n",
       "    </tr>\n",
       "    <tr>\n",
       "      <th>26</th>\n",
       "      <td>Jorge Jesus</td>\n",
       "      <td>Flamengo</td>\n",
       "      <td>178.0</td>\n",
       "      <td>03a06</td>\n",
       "    </tr>\n",
       "    <tr>\n",
       "      <th>17</th>\n",
       "      <td>Eduardo Barroca</td>\n",
       "      <td>Botafogo</td>\n",
       "      <td>173.0</td>\n",
       "      <td>03a06</td>\n",
       "    </tr>\n",
       "    <tr>\n",
       "      <th>1</th>\n",
       "      <td>Abel Braga</td>\n",
       "      <td>Flamengo</td>\n",
       "      <td>166.0</td>\n",
       "      <td>03a06</td>\n",
       "    </tr>\n",
       "    <tr>\n",
       "      <th>35</th>\n",
       "      <td>Maurício Barbieri</td>\n",
       "      <td>Flamengo</td>\n",
       "      <td>162.0</td>\n",
       "      <td>03a06</td>\n",
       "    </tr>\n",
       "    <tr>\n",
       "      <th>53</th>\n",
       "      <td>Vágner Mancini</td>\n",
       "      <td>Corinthians</td>\n",
       "      <td>137.0</td>\n",
       "      <td>03a06</td>\n",
       "    </tr>\n",
       "    <tr>\n",
       "      <th>37</th>\n",
       "      <td>Nelsinho Baptista</td>\n",
       "      <td>Sport Recife</td>\n",
       "      <td>134.0</td>\n",
       "      <td>03a06</td>\n",
       "    </tr>\n",
       "    <tr>\n",
       "      <th>5</th>\n",
       "      <td>Alberto Valentim</td>\n",
       "      <td>Botafogo</td>\n",
       "      <td>121.0</td>\n",
       "      <td>03a06</td>\n",
       "    </tr>\n",
       "    <tr>\n",
       "      <th>55</th>\n",
       "      <td>Zé Ricardo</td>\n",
       "      <td>Botafogo</td>\n",
       "      <td>119.0</td>\n",
       "      <td>03a06</td>\n",
       "    </tr>\n",
       "    <tr>\n",
       "      <th>3</th>\n",
       "      <td>Abel Ferreira</td>\n",
       "      <td>Palmeiras</td>\n",
       "      <td>115.0</td>\n",
       "      <td>03a06</td>\n",
       "    </tr>\n",
       "    <tr>\n",
       "      <th>9</th>\n",
       "      <td>Claudinei Oliveira</td>\n",
       "      <td>Sport Recife</td>\n",
       "      <td>109.0</td>\n",
       "      <td>03a06</td>\n",
       "    </tr>\n",
       "    <tr>\n",
       "      <th>2</th>\n",
       "      <td>Abel Braga</td>\n",
       "      <td>Internacional</td>\n",
       "      <td>108.0</td>\n",
       "      <td>03a06</td>\n",
       "    </tr>\n",
       "    <tr>\n",
       "      <th>47</th>\n",
       "      <td>Rogério Ceni</td>\n",
       "      <td>Flamengo</td>\n",
       "      <td>107.0</td>\n",
       "      <td>03a06</td>\n",
       "    </tr>\n",
       "    <tr>\n",
       "      <th>39</th>\n",
       "      <td>Osmar Loss</td>\n",
       "      <td>Corinthians</td>\n",
       "      <td>107.0</td>\n",
       "      <td>03a06</td>\n",
       "    </tr>\n",
       "    <tr>\n",
       "      <th>14</th>\n",
       "      <td>Domènec Torrent</td>\n",
       "      <td>Flamengo</td>\n",
       "      <td>100.0</td>\n",
       "      <td>03a06</td>\n",
       "    </tr>\n",
       "    <tr>\n",
       "      <th>32</th>\n",
       "      <td>Mano Menezes</td>\n",
       "      <td>Palmeiras</td>\n",
       "      <td>89.0</td>\n",
       "      <td>01a03</td>\n",
       "    </tr>\n",
       "    <tr>\n",
       "      <th>24</th>\n",
       "      <td>Jair Ventura</td>\n",
       "      <td>Corinthians</td>\n",
       "      <td>87.0</td>\n",
       "      <td>01a03</td>\n",
       "    </tr>\n",
       "    <tr>\n",
       "      <th>36</th>\n",
       "      <td>Milton Mendes</td>\n",
       "      <td>Sport Recife</td>\n",
       "      <td>67.0</td>\n",
       "      <td>01a03</td>\n",
       "    </tr>\n",
       "    <tr>\n",
       "      <th>15</th>\n",
       "      <td>Dorival Júnior</td>\n",
       "      <td>Flamengo</td>\n",
       "      <td>64.0</td>\n",
       "      <td>01a03</td>\n",
       "    </tr>\n",
       "    <tr>\n",
       "      <th>0</th>\n",
       "      <td>Abel Braga</td>\n",
       "      <td>Cruzeiro</td>\n",
       "      <td>62.0</td>\n",
       "      <td>01a03</td>\n",
       "    </tr>\n",
       "    <tr>\n",
       "      <th>52</th>\n",
       "      <td>Vágner Mancini</td>\n",
       "      <td>Atlético-MG</td>\n",
       "      <td>55.0</td>\n",
       "      <td>01a03</td>\n",
       "    </tr>\n",
       "    <tr>\n",
       "      <th>34</th>\n",
       "      <td>Marcos Paquetá</td>\n",
       "      <td>Botafogo</td>\n",
       "      <td>54.0</td>\n",
       "      <td>01a03</td>\n",
       "    </tr>\n",
       "    <tr>\n",
       "      <th>56</th>\n",
       "      <td>Zé Ricardo</td>\n",
       "      <td>Internacional</td>\n",
       "      <td>48.0</td>\n",
       "      <td>01a03</td>\n",
       "    </tr>\n",
       "    <tr>\n",
       "      <th>46</th>\n",
       "      <td>Rogério Ceni</td>\n",
       "      <td>Cruzeiro</td>\n",
       "      <td>45.0</td>\n",
       "      <td>01a03</td>\n",
       "    </tr>\n",
       "    <tr>\n",
       "      <th>28</th>\n",
       "      <td>Levir Culpi</td>\n",
       "      <td>Atlético-MG</td>\n",
       "      <td>43.0</td>\n",
       "      <td>01a03</td>\n",
       "    </tr>\n",
       "    <tr>\n",
       "      <th>16</th>\n",
       "      <td>Eduardo Baptista</td>\n",
       "      <td>Sport Recife</td>\n",
       "      <td>39.0</td>\n",
       "      <td>01a03</td>\n",
       "    </tr>\n",
       "    <tr>\n",
       "      <th>10</th>\n",
       "      <td>Coelho</td>\n",
       "      <td>Corinthians</td>\n",
       "      <td>34.0</td>\n",
       "      <td>01a03</td>\n",
       "    </tr>\n",
       "    <tr>\n",
       "      <th>51</th>\n",
       "      <td>Vizolli</td>\n",
       "      <td>São Paulo</td>\n",
       "      <td>23.0</td>\n",
       "      <td>00a01</td>\n",
       "    </tr>\n",
       "    <tr>\n",
       "      <th>7</th>\n",
       "      <td>André Jardine</td>\n",
       "      <td>São Paulo</td>\n",
       "      <td>20.0</td>\n",
       "      <td>00a01</td>\n",
       "    </tr>\n",
       "    <tr>\n",
       "      <th>30</th>\n",
       "      <td>Lúcio Flávio</td>\n",
       "      <td>Botafogo</td>\n",
       "      <td>19.0</td>\n",
       "      <td>00a01</td>\n",
       "    </tr>\n",
       "    <tr>\n",
       "      <th>8</th>\n",
       "      <td>Bruno Lazaroni</td>\n",
       "      <td>Botafogo</td>\n",
       "      <td>19.0</td>\n",
       "      <td>00a01</td>\n",
       "    </tr>\n",
       "    <tr>\n",
       "      <th>6</th>\n",
       "      <td>Andrey Lopes</td>\n",
       "      <td>Palmeiras</td>\n",
       "      <td>18.0</td>\n",
       "      <td>00a01</td>\n",
       "    </tr>\n",
       "    <tr>\n",
       "      <th>19</th>\n",
       "      <td>Emiliano Ramón Díaz</td>\n",
       "      <td>Botafogo</td>\n",
       "      <td>17.0</td>\n",
       "      <td>00a01</td>\n",
       "    </tr>\n",
       "    <tr>\n",
       "      <th>33</th>\n",
       "      <td>Marcelo Salles</td>\n",
       "      <td>Flamengo</td>\n",
       "      <td>15.0</td>\n",
       "      <td>00a01</td>\n",
       "    </tr>\n",
       "    <tr>\n",
       "      <th>42</th>\n",
       "      <td>Ricardo Colbachini</td>\n",
       "      <td>Internacional</td>\n",
       "      <td>10.0</td>\n",
       "      <td>00a01</td>\n",
       "    </tr>\n",
       "    <tr>\n",
       "      <th>22</th>\n",
       "      <td>Flávio Tenius</td>\n",
       "      <td>Botafogo</td>\n",
       "      <td>10.0</td>\n",
       "      <td>00a01</td>\n",
       "    </tr>\n",
       "    <tr>\n",
       "      <th>4</th>\n",
       "      <td>Adilson Batista</td>\n",
       "      <td>Cruzeiro</td>\n",
       "      <td>9.0</td>\n",
       "      <td>00a01</td>\n",
       "    </tr>\n",
       "    <tr>\n",
       "      <th>54</th>\n",
       "      <td>Wesley Carvalho</td>\n",
       "      <td>Palmeiras</td>\n",
       "      <td>0.0</td>\n",
       "      <td>NaN</td>\n",
       "    </tr>\n",
       "    <tr>\n",
       "      <th>20</th>\n",
       "      <td>Felipe Lucena</td>\n",
       "      <td>Botafogo</td>\n",
       "      <td>NaN</td>\n",
       "      <td>NaN</td>\n",
       "    </tr>\n",
       "    <tr>\n",
       "      <th>43</th>\n",
       "      <td>Ricardo Resende</td>\n",
       "      <td>Cruzeiro</td>\n",
       "      <td>NaN</td>\n",
       "      <td>NaN</td>\n",
       "    </tr>\n",
       "  </tbody>\n",
       "</table>\n",
       "</div>"
      ],
      "text/plain": [
       "                 tecnico           time  tempo_tec tem_tec_classe\n",
       "41         Renato Gaúcho         Grêmio     1621.0            >24\n",
       "31          Mano Menezes       Cruzeiro     1105.0            >24\n",
       "38        Odair Hellmann  Internacional      695.0          12a24\n",
       "23         Fábio Carille    Corinthians      514.0          12a24\n",
       "21        Fernando Diniz      São Paulo      493.0          12a24\n",
       "29   Luiz Felipe Scolari      Palmeiras      394.0          12a24\n",
       "27        Jorge Sampaoli    Atlético-MG      354.0          06a12\n",
       "18        Eduardo Coudet  Internacional      329.0          06a12\n",
       "50  Vanderlei Luxemburgo      Palmeiras      304.0          06a12\n",
       "49           Tiago Nunes    Corinthians      277.0          06a12\n",
       "48         Thiago Larghi    Atlético-MG      248.0          06a12\n",
       "45         Roger Machado      Palmeiras      246.0          06a12\n",
       "13         Diego Aguirre      São Paulo      240.0          06a12\n",
       "40         Paulo Autuori       Botafogo      232.0          06a12\n",
       "12       Daniel Paulista   Sport Recife      190.0          06a12\n",
       "25          Jair Ventura   Sport Recife      186.0          06a12\n",
       "44       Rodrigo Santana    Atlético-MG      185.0          06a12\n",
       "11                  Cuca      São Paulo      178.0          03a06\n",
       "26           Jorge Jesus       Flamengo      178.0          03a06\n",
       "17       Eduardo Barroca       Botafogo      173.0          03a06\n",
       "1             Abel Braga       Flamengo      166.0          03a06\n",
       "35     Maurício Barbieri       Flamengo      162.0          03a06\n",
       "53        Vágner Mancini    Corinthians      137.0          03a06\n",
       "37     Nelsinho Baptista   Sport Recife      134.0          03a06\n",
       "5       Alberto Valentim       Botafogo      121.0          03a06\n",
       "55            Zé Ricardo       Botafogo      119.0          03a06\n",
       "3          Abel Ferreira      Palmeiras      115.0          03a06\n",
       "9     Claudinei Oliveira   Sport Recife      109.0          03a06\n",
       "2             Abel Braga  Internacional      108.0          03a06\n",
       "47          Rogério Ceni       Flamengo      107.0          03a06\n",
       "39            Osmar Loss    Corinthians      107.0          03a06\n",
       "14       Domènec Torrent       Flamengo      100.0          03a06\n",
       "32          Mano Menezes      Palmeiras       89.0          01a03\n",
       "24          Jair Ventura    Corinthians       87.0          01a03\n",
       "36         Milton Mendes   Sport Recife       67.0          01a03\n",
       "15        Dorival Júnior       Flamengo       64.0          01a03\n",
       "0             Abel Braga       Cruzeiro       62.0          01a03\n",
       "52        Vágner Mancini    Atlético-MG       55.0          01a03\n",
       "34        Marcos Paquetá       Botafogo       54.0          01a03\n",
       "56            Zé Ricardo  Internacional       48.0          01a03\n",
       "46          Rogério Ceni       Cruzeiro       45.0          01a03\n",
       "28           Levir Culpi    Atlético-MG       43.0          01a03\n",
       "16      Eduardo Baptista   Sport Recife       39.0          01a03\n",
       "10                Coelho    Corinthians       34.0          01a03\n",
       "51               Vizolli      São Paulo       23.0          00a01\n",
       "7          André Jardine      São Paulo       20.0          00a01\n",
       "30          Lúcio Flávio       Botafogo       19.0          00a01\n",
       "8         Bruno Lazaroni       Botafogo       19.0          00a01\n",
       "6           Andrey Lopes      Palmeiras       18.0          00a01\n",
       "19   Emiliano Ramón Díaz       Botafogo       17.0          00a01\n",
       "33        Marcelo Salles       Flamengo       15.0          00a01\n",
       "42    Ricardo Colbachini  Internacional       10.0          00a01\n",
       "22         Flávio Tenius       Botafogo       10.0          00a01\n",
       "4        Adilson Batista       Cruzeiro        9.0          00a01\n",
       "54       Wesley Carvalho      Palmeiras        0.0            NaN\n",
       "20         Felipe Lucena       Botafogo        NaN            NaN\n",
       "43       Ricardo Resende       Cruzeiro        NaN            NaN"
      ]
     },
     "execution_count": 82,
     "metadata": {},
     "output_type": "execute_result"
    }
   ],
   "source": [
    "classes = pd.cut(x = tempo_tec.tempo_tec, \n",
    "                 bins = [0, 30, 90, 180, 360, 720, 1621], \n",
    "                 labels = ['00a01', '01a03','03a06', '06a12', '12a24', '>24'])\n",
    "tempo_tec['tem_tec_classe'] = classes\n",
    "tempo_tec"
   ]
  },
  {
   "cell_type": "code",
   "execution_count": null,
   "metadata": {
    "colab": {
     "base_uri": "https://localhost:8080/",
     "height": 385
    },
    "executionInfo": {
     "elapsed": 9,
     "status": "ok",
     "timestamp": 1639407223944,
     "user": {
      "displayName": "Larissa Sayuri Futino Castro Dos Santos",
      "photoUrl": "https://lh3.googleusercontent.com/a-/AOh14GjzQGcK2ufV__KxTdNAt_Q676drnxJRe6-8iwjLOEI=s64",
      "userId": "03270260930185135567"
     },
     "user_tz": 180
    },
    "id": "dhToR1tmN4Rk",
    "outputId": "2ff72fc7-e72c-44b1-974c-f0427a2aa368"
   },
   "outputs": [
    {
     "data": {
      "text/html": [
       "\n",
       "<div id=\"altair-viz-a4e01edfcfec4ce9bdfa544afa97684c\"></div>\n",
       "<script type=\"text/javascript\">\n",
       "  (function(spec, embedOpt){\n",
       "    let outputDiv = document.currentScript.previousElementSibling;\n",
       "    if (outputDiv.id !== \"altair-viz-a4e01edfcfec4ce9bdfa544afa97684c\") {\n",
       "      outputDiv = document.getElementById(\"altair-viz-a4e01edfcfec4ce9bdfa544afa97684c\");\n",
       "    }\n",
       "    const paths = {\n",
       "      \"vega\": \"https://cdn.jsdelivr.net/npm//vega@5?noext\",\n",
       "      \"vega-lib\": \"https://cdn.jsdelivr.net/npm//vega-lib?noext\",\n",
       "      \"vega-lite\": \"https://cdn.jsdelivr.net/npm//vega-lite@4.8.1?noext\",\n",
       "      \"vega-embed\": \"https://cdn.jsdelivr.net/npm//vega-embed@6?noext\",\n",
       "    };\n",
       "\n",
       "    function loadScript(lib) {\n",
       "      return new Promise(function(resolve, reject) {\n",
       "        var s = document.createElement('script');\n",
       "        s.src = paths[lib];\n",
       "        s.async = true;\n",
       "        s.onload = () => resolve(paths[lib]);\n",
       "        s.onerror = () => reject(`Error loading script: ${paths[lib]}`);\n",
       "        document.getElementsByTagName(\"head\")[0].appendChild(s);\n",
       "      });\n",
       "    }\n",
       "\n",
       "    function showError(err) {\n",
       "      outputDiv.innerHTML = `<div class=\"error\" style=\"color:red;\">${err}</div>`;\n",
       "      throw err;\n",
       "    }\n",
       "\n",
       "    function displayChart(vegaEmbed) {\n",
       "      vegaEmbed(outputDiv, spec, embedOpt)\n",
       "        .catch(err => showError(`Javascript Error: ${err.message}<br>This usually means there's a typo in your chart specification. See the javascript console for the full traceback.`));\n",
       "    }\n",
       "\n",
       "    if(typeof define === \"function\" && define.amd) {\n",
       "      requirejs.config({paths});\n",
       "      require([\"vega-embed\"], displayChart, err => showError(`Error loading script: ${err.message}`));\n",
       "    } else if (typeof vegaEmbed === \"function\") {\n",
       "      displayChart(vegaEmbed);\n",
       "    } else {\n",
       "      loadScript(\"vega\")\n",
       "        .then(() => loadScript(\"vega-lite\"))\n",
       "        .then(() => loadScript(\"vega-embed\"))\n",
       "        .catch(showError)\n",
       "        .then(() => displayChart(vegaEmbed));\n",
       "    }\n",
       "  })({\"config\": {\"view\": {\"continuousWidth\": 400, \"continuousHeight\": 300}}, \"data\": {\"name\": \"data-1d2f8c46694e25ba345327cf2314296f\"}, \"mark\": \"bar\", \"encoding\": {\"x\": {\"type\": \"nominal\", \"field\": \"tem_tec_classe\", \"title\": \"Perman\\u00eancia do t\\u00e9cnico (em meses)\"}, \"y\": {\"type\": \"quantitative\", \"aggregate\": \"count\", \"title\": \"Frequ\\u00eancia\"}}, \"$schema\": \"https://vega.github.io/schema/vega-lite/v4.8.1.json\", \"datasets\": {\"data-1d2f8c46694e25ba345327cf2314296f\": [{\"tecnico\": \"Renato Ga\\u00facho\", \"time\": \"Gr\\u00eamio\", \"tempo_tec\": 1621.0, \"tem_tec_classe\": \">24\"}, {\"tecnico\": \"Mano Menezes\", \"time\": \"Cruzeiro\", \"tempo_tec\": 1105.0, \"tem_tec_classe\": \">24\"}, {\"tecnico\": \"Odair Hellmann\", \"time\": \"Internacional\", \"tempo_tec\": 695.0, \"tem_tec_classe\": \"12a24\"}, {\"tecnico\": \"F\\u00e1bio Carille\", \"time\": \"Corinthians\", \"tempo_tec\": 514.0, \"tem_tec_classe\": \"12a24\"}, {\"tecnico\": \"Fernando Diniz\", \"time\": \"S\\u00e3o Paulo\", \"tempo_tec\": 493.0, \"tem_tec_classe\": \"12a24\"}, {\"tecnico\": \"Luiz Felipe Scolari\", \"time\": \"Palmeiras\", \"tempo_tec\": 394.0, \"tem_tec_classe\": \"12a24\"}, {\"tecnico\": \"Jorge Sampaoli\", \"time\": \"Atl\\u00e9tico-MG\", \"tempo_tec\": 354.0, \"tem_tec_classe\": \"06a12\"}, {\"tecnico\": \"Eduardo Coudet\", \"time\": \"Internacional\", \"tempo_tec\": 329.0, \"tem_tec_classe\": \"06a12\"}, {\"tecnico\": \"Vanderlei Luxemburgo\", \"time\": \"Palmeiras\", \"tempo_tec\": 304.0, \"tem_tec_classe\": \"06a12\"}, {\"tecnico\": \"Tiago Nunes\", \"time\": \"Corinthians\", \"tempo_tec\": 277.0, \"tem_tec_classe\": \"06a12\"}, {\"tecnico\": \"Thiago Larghi\", \"time\": \"Atl\\u00e9tico-MG\", \"tempo_tec\": 248.0, \"tem_tec_classe\": \"06a12\"}, {\"tecnico\": \"Roger Machado\", \"time\": \"Palmeiras\", \"tempo_tec\": 246.0, \"tem_tec_classe\": \"06a12\"}, {\"tecnico\": \"Diego Aguirre\", \"time\": \"S\\u00e3o Paulo\", \"tempo_tec\": 240.0, \"tem_tec_classe\": \"06a12\"}, {\"tecnico\": \"Paulo Autuori\", \"time\": \"Botafogo\", \"tempo_tec\": 232.0, \"tem_tec_classe\": \"06a12\"}, {\"tecnico\": \"Daniel Paulista\", \"time\": \"Sport Recife\", \"tempo_tec\": 190.0, \"tem_tec_classe\": \"06a12\"}, {\"tecnico\": \"Jair Ventura\", \"time\": \"Sport Recife\", \"tempo_tec\": 186.0, \"tem_tec_classe\": \"06a12\"}, {\"tecnico\": \"Rodrigo Santana\", \"time\": \"Atl\\u00e9tico-MG\", \"tempo_tec\": 185.0, \"tem_tec_classe\": \"06a12\"}, {\"tecnico\": \"Cuca\", \"time\": \"S\\u00e3o Paulo\", \"tempo_tec\": 178.0, \"tem_tec_classe\": \"03a06\"}, {\"tecnico\": \"Jorge Jesus\", \"time\": \"Flamengo\", \"tempo_tec\": 178.0, \"tem_tec_classe\": \"03a06\"}, {\"tecnico\": \"Eduardo Barroca\", \"time\": \"Botafogo\", \"tempo_tec\": 173.0, \"tem_tec_classe\": \"03a06\"}, {\"tecnico\": \"Abel Braga\", \"time\": \"Flamengo\", \"tempo_tec\": 166.0, \"tem_tec_classe\": \"03a06\"}, {\"tecnico\": \"Maur\\u00edcio Barbieri\", \"time\": \"Flamengo\", \"tempo_tec\": 162.0, \"tem_tec_classe\": \"03a06\"}, {\"tecnico\": \"V\\u00e1gner Mancini\", \"time\": \"Corinthians\", \"tempo_tec\": 137.0, \"tem_tec_classe\": \"03a06\"}, {\"tecnico\": \"Nelsinho Baptista\", \"time\": \"Sport Recife\", \"tempo_tec\": 134.0, \"tem_tec_classe\": \"03a06\"}, {\"tecnico\": \"Alberto Valentim\", \"time\": \"Botafogo\", \"tempo_tec\": 121.0, \"tem_tec_classe\": \"03a06\"}, {\"tecnico\": \"Z\\u00e9 Ricardo\", \"time\": \"Botafogo\", \"tempo_tec\": 119.0, \"tem_tec_classe\": \"03a06\"}, {\"tecnico\": \"Abel Ferreira\", \"time\": \"Palmeiras\", \"tempo_tec\": 115.0, \"tem_tec_classe\": \"03a06\"}, {\"tecnico\": \"Claudinei Oliveira\", \"time\": \"Sport Recife\", \"tempo_tec\": 109.0, \"tem_tec_classe\": \"03a06\"}, {\"tecnico\": \"Abel Braga\", \"time\": \"Internacional\", \"tempo_tec\": 108.0, \"tem_tec_classe\": \"03a06\"}, {\"tecnico\": \"Rog\\u00e9rio Ceni\", \"time\": \"Flamengo\", \"tempo_tec\": 107.0, \"tem_tec_classe\": \"03a06\"}, {\"tecnico\": \"Osmar Loss\", \"time\": \"Corinthians\", \"tempo_tec\": 107.0, \"tem_tec_classe\": \"03a06\"}, {\"tecnico\": \"Dom\\u00e8nec Torrent\", \"time\": \"Flamengo\", \"tempo_tec\": 100.0, \"tem_tec_classe\": \"03a06\"}, {\"tecnico\": \"Mano Menezes\", \"time\": \"Palmeiras\", \"tempo_tec\": 89.0, \"tem_tec_classe\": \"01a03\"}, {\"tecnico\": \"Jair Ventura\", \"time\": \"Corinthians\", \"tempo_tec\": 87.0, \"tem_tec_classe\": \"01a03\"}, {\"tecnico\": \"Milton Mendes\", \"time\": \"Sport Recife\", \"tempo_tec\": 67.0, \"tem_tec_classe\": \"01a03\"}, {\"tecnico\": \"Dorival J\\u00fanior\", \"time\": \"Flamengo\", \"tempo_tec\": 64.0, \"tem_tec_classe\": \"01a03\"}, {\"tecnico\": \"Abel Braga\", \"time\": \"Cruzeiro\", \"tempo_tec\": 62.0, \"tem_tec_classe\": \"01a03\"}, {\"tecnico\": \"V\\u00e1gner Mancini\", \"time\": \"Atl\\u00e9tico-MG\", \"tempo_tec\": 55.0, \"tem_tec_classe\": \"01a03\"}, {\"tecnico\": \"Marcos Paquet\\u00e1\", \"time\": \"Botafogo\", \"tempo_tec\": 54.0, \"tem_tec_classe\": \"01a03\"}, {\"tecnico\": \"Z\\u00e9 Ricardo\", \"time\": \"Internacional\", \"tempo_tec\": 48.0, \"tem_tec_classe\": \"01a03\"}, {\"tecnico\": \"Rog\\u00e9rio Ceni\", \"time\": \"Cruzeiro\", \"tempo_tec\": 45.0, \"tem_tec_classe\": \"01a03\"}, {\"tecnico\": \"Levir Culpi\", \"time\": \"Atl\\u00e9tico-MG\", \"tempo_tec\": 43.0, \"tem_tec_classe\": \"01a03\"}, {\"tecnico\": \"Eduardo Baptista\", \"time\": \"Sport Recife\", \"tempo_tec\": 39.0, \"tem_tec_classe\": \"01a03\"}, {\"tecnico\": \"Coelho\", \"time\": \"Corinthians\", \"tempo_tec\": 34.0, \"tem_tec_classe\": \"01a03\"}, {\"tecnico\": \"Vizolli\", \"time\": \"S\\u00e3o Paulo\", \"tempo_tec\": 23.0, \"tem_tec_classe\": \"00a01\"}, {\"tecnico\": \"Andr\\u00e9 Jardine\", \"time\": \"S\\u00e3o Paulo\", \"tempo_tec\": 20.0, \"tem_tec_classe\": \"00a01\"}, {\"tecnico\": \"L\\u00facio Fl\\u00e1vio\", \"time\": \"Botafogo\", \"tempo_tec\": 19.0, \"tem_tec_classe\": \"00a01\"}, {\"tecnico\": \"Bruno Lazaroni\", \"time\": \"Botafogo\", \"tempo_tec\": 19.0, \"tem_tec_classe\": \"00a01\"}, {\"tecnico\": \"Andrey Lopes\", \"time\": \"Palmeiras\", \"tempo_tec\": 18.0, \"tem_tec_classe\": \"00a01\"}, {\"tecnico\": \"Emiliano Ram\\u00f3n D\\u00edaz\", \"time\": \"Botafogo\", \"tempo_tec\": 17.0, \"tem_tec_classe\": \"00a01\"}, {\"tecnico\": \"Marcelo Salles\", \"time\": \"Flamengo\", \"tempo_tec\": 15.0, \"tem_tec_classe\": \"00a01\"}, {\"tecnico\": \"Ricardo Colbachini\", \"time\": \"Internacional\", \"tempo_tec\": 10.0, \"tem_tec_classe\": \"00a01\"}, {\"tecnico\": \"Fl\\u00e1vio Tenius\", \"time\": \"Botafogo\", \"tempo_tec\": 10.0, \"tem_tec_classe\": \"00a01\"}, {\"tecnico\": \"Adilson Batista\", \"time\": \"Cruzeiro\", \"tempo_tec\": 9.0, \"tem_tec_classe\": \"00a01\"}, {\"tecnico\": \"Wesley Carvalho\", \"time\": \"Palmeiras\", \"tempo_tec\": 0.0, \"tem_tec_classe\": null}, {\"tecnico\": \"Felipe Lucena\", \"time\": \"Botafogo\", \"tempo_tec\": null, \"tem_tec_classe\": null}, {\"tecnico\": \"Ricardo Resende\", \"time\": \"Cruzeiro\", \"tempo_tec\": null, \"tem_tec_classe\": null}]}}, {\"mode\": \"vega-lite\"});\n",
       "</script>"
      ],
      "text/plain": [
       "alt.Chart(...)"
      ]
     },
     "execution_count": 69,
     "metadata": {},
     "output_type": "execute_result"
    }
   ],
   "source": [
    "import altair as alt              \n",
    "alt.Chart(tempo_tec).mark_bar().encode(\n",
    "        alt.X('tem_tec_classe',\n",
    "          title = 'Permanência do técnico (em meses)',\n",
    "          #bin = alt.Bin(extent = [0, 100], step = 2)\n",
    "          ),\n",
    "        alt.Y('count()',\n",
    "          title = 'Frequência'))"
   ]
  },
  {
   "cell_type": "markdown",
   "metadata": {
    "id": "o2BaunCFdQdk"
   },
   "source": [
    "# Qual o número de dias que um técnico fica em um time POR TIME?"
   ]
  },
  {
   "cell_type": "code",
   "execution_count": null,
   "metadata": {
    "colab": {
     "base_uri": "https://localhost:8080/",
     "height": 425
    },
    "executionInfo": {
     "elapsed": 256,
     "status": "ok",
     "timestamp": 1639407411128,
     "user": {
      "displayName": "Larissa Sayuri Futino Castro Dos Santos",
      "photoUrl": "https://lh3.googleusercontent.com/a-/AOh14GjzQGcK2ufV__KxTdNAt_Q676drnxJRe6-8iwjLOEI=s64",
      "userId": "03270260930185135567"
     },
     "user_tz": 180
    },
    "id": "kHcJkR4YdYaM",
    "outputId": "c4df2148-7586-4980-9e2a-3b223e3d738d"
   },
   "outputs": [
    {
     "data": {
      "text/html": [
       "<div>\n",
       "<style scoped>\n",
       "    .dataframe tbody tr th:only-of-type {\n",
       "        vertical-align: middle;\n",
       "    }\n",
       "\n",
       "    .dataframe tbody tr th {\n",
       "        vertical-align: top;\n",
       "    }\n",
       "\n",
       "    .dataframe thead tr th {\n",
       "        text-align: left;\n",
       "    }\n",
       "\n",
       "    .dataframe thead tr:last-of-type th {\n",
       "        text-align: right;\n",
       "    }\n",
       "</style>\n",
       "<table border=\"1\" class=\"dataframe\">\n",
       "  <thead>\n",
       "    <tr>\n",
       "      <th></th>\n",
       "      <th colspan=\"3\" halign=\"left\">tempo_tec</th>\n",
       "    </tr>\n",
       "    <tr>\n",
       "      <th></th>\n",
       "      <th>min</th>\n",
       "      <th>mean</th>\n",
       "      <th>max</th>\n",
       "    </tr>\n",
       "    <tr>\n",
       "      <th>time</th>\n",
       "      <th></th>\n",
       "      <th></th>\n",
       "      <th></th>\n",
       "    </tr>\n",
       "  </thead>\n",
       "  <tbody>\n",
       "    <tr>\n",
       "      <th>Atlético-MG</th>\n",
       "      <td>43.0</td>\n",
       "      <td>177.00</td>\n",
       "      <td>354.0</td>\n",
       "    </tr>\n",
       "    <tr>\n",
       "      <th>Botafogo</th>\n",
       "      <td>10.0</td>\n",
       "      <td>84.89</td>\n",
       "      <td>232.0</td>\n",
       "    </tr>\n",
       "    <tr>\n",
       "      <th>Corinthians</th>\n",
       "      <td>34.0</td>\n",
       "      <td>192.67</td>\n",
       "      <td>514.0</td>\n",
       "    </tr>\n",
       "    <tr>\n",
       "      <th>Cruzeiro</th>\n",
       "      <td>9.0</td>\n",
       "      <td>305.25</td>\n",
       "      <td>1105.0</td>\n",
       "    </tr>\n",
       "    <tr>\n",
       "      <th>Flamengo</th>\n",
       "      <td>15.0</td>\n",
       "      <td>113.14</td>\n",
       "      <td>178.0</td>\n",
       "    </tr>\n",
       "    <tr>\n",
       "      <th>Grêmio</th>\n",
       "      <td>1621.0</td>\n",
       "      <td>1621.00</td>\n",
       "      <td>1621.0</td>\n",
       "    </tr>\n",
       "    <tr>\n",
       "      <th>Internacional</th>\n",
       "      <td>10.0</td>\n",
       "      <td>238.00</td>\n",
       "      <td>695.0</td>\n",
       "    </tr>\n",
       "    <tr>\n",
       "      <th>Palmeiras</th>\n",
       "      <td>0.0</td>\n",
       "      <td>166.57</td>\n",
       "      <td>394.0</td>\n",
       "    </tr>\n",
       "    <tr>\n",
       "      <th>Sport Recife</th>\n",
       "      <td>39.0</td>\n",
       "      <td>120.83</td>\n",
       "      <td>190.0</td>\n",
       "    </tr>\n",
       "    <tr>\n",
       "      <th>São Paulo</th>\n",
       "      <td>20.0</td>\n",
       "      <td>190.80</td>\n",
       "      <td>493.0</td>\n",
       "    </tr>\n",
       "  </tbody>\n",
       "</table>\n",
       "</div>"
      ],
      "text/plain": [
       "              tempo_tec                 \n",
       "                    min     mean     max\n",
       "time                                    \n",
       "Atlético-MG        43.0   177.00   354.0\n",
       "Botafogo           10.0    84.89   232.0\n",
       "Corinthians        34.0   192.67   514.0\n",
       "Cruzeiro            9.0   305.25  1105.0\n",
       "Flamengo           15.0   113.14   178.0\n",
       "Grêmio           1621.0  1621.00  1621.0\n",
       "Internacional      10.0   238.00   695.0\n",
       "Palmeiras           0.0   166.57   394.0\n",
       "Sport Recife       39.0   120.83   190.0\n",
       "São Paulo          20.0   190.80   493.0"
      ]
     },
     "execution_count": 74,
     "metadata": {},
     "output_type": "execute_result"
    }
   ],
   "source": [
    "#tempo = tempo_tec.replace(\"days\", \"\")\n",
    "tempo_time = tempo_tec.groupby('time').agg({\"tempo_tec\":['min','mean', 'max']}).round(2)\n",
    "tempo_time#.sort_values(by = \"min\")"
   ]
  },
  {
   "cell_type": "markdown",
   "metadata": {
    "id": "i0GMYPijdd68"
   },
   "source": [
    "# Há relação entre a demissão de um técnico e o tempo que ele está no time?"
   ]
  },
  {
   "cell_type": "code",
   "execution_count": null,
   "metadata": {
    "colab": {
     "base_uri": "https://localhost:8080/",
     "height": 387
    },
    "executionInfo": {
     "elapsed": 571,
     "status": "ok",
     "timestamp": 1639411587895,
     "user": {
      "displayName": "Larissa Sayuri Futino Castro Dos Santos",
      "photoUrl": "https://lh3.googleusercontent.com/a-/AOh14GjzQGcK2ufV__KxTdNAt_Q676drnxJRe6-8iwjLOEI=s64",
      "userId": "03270260930185135567"
     },
     "user_tz": 180
    },
    "id": "BHxq-sGVJfsy",
    "outputId": "b6a63d6d-df23-4b32-9782-caf7c7151a6e"
   },
   "outputs": [
    {
     "data": {
      "text/plain": [
       "<seaborn.axisgrid.FacetGrid at 0x7fcf9e565dd0>"
      ]
     },
     "execution_count": 84,
     "metadata": {},
     "output_type": "execute_result"
    },
    {
     "data": {
      "image/png": "[encoded data removed]",
      "text/plain": [
       "<Figure size 360x360 with 1 Axes>"
      ]
     },
     "metadata": {
      "needs_background": "light"
     },
     "output_type": "display_data"
    }
   ],
   "source": [
    "import seaborn as sns         \n",
    "sns.catplot(data = tempo_tecnico,\n",
    "            x = 'demissao',\n",
    "            y = 'tempo_tec')"
   ]
  },
  {
   "cell_type": "code",
   "execution_count": null,
   "metadata": {
    "colab": {
     "base_uri": "https://localhost:8080/",
     "height": 279
    },
    "executionInfo": {
     "elapsed": 332,
     "status": "ok",
     "timestamp": 1639411755277,
     "user": {
      "displayName": "Larissa Sayuri Futino Castro Dos Santos",
      "photoUrl": "https://lh3.googleusercontent.com/a-/AOh14GjzQGcK2ufV__KxTdNAt_Q676drnxJRe6-8iwjLOEI=s64",
      "userId": "03270260930185135567"
     },
     "user_tz": 180
    },
    "id": "Ro3I66TlT3Az",
    "outputId": "14d743f0-09db-4f2e-e417-7d18b56b0a2b"
   },
   "outputs": [
    {
     "data": {
      "image/png": "[encoded data removed]",
      "text/plain": [
       "<Figure size 432x288 with 1 Axes>"
      ]
     },
     "metadata": {
      "needs_background": "light"
     },
     "output_type": "display_data"
    }
   ],
   "source": [
    "from matplotlib import pyplot as plt\n",
    "ax = sns.boxplot(x = \"demissao\", \n",
    "                 y = \"tempo_tec\", \n",
    "                 #col = \"demissao\",\n",
    "                 data = tempo_tecnico)  # RUN PLOT   \n",
    "plt.show()\n",
    "plt.clf()\n",
    "plt.close()"
   ]
  },
  {
   "cell_type": "markdown",
   "metadata": {
    "id": "pVOKmIcFdnRG"
   },
   "source": [
    "# Há relação entre a demissão de um técnico e o número de derrotas acumuladas no campeonato (total)?"
   ]
  },
  {
   "cell_type": "code",
   "execution_count": null,
   "metadata": {
    "colab": {
     "base_uri": "https://localhost:8080/",
     "height": 279
    },
    "executionInfo": {
     "elapsed": 427,
     "status": "ok",
     "timestamp": 1639411976696,
     "user": {
      "displayName": "Larissa Sayuri Futino Castro Dos Santos",
      "photoUrl": "https://lh3.googleusercontent.com/a-/AOh14GjzQGcK2ufV__KxTdNAt_Q676drnxJRe6-8iwjLOEI=s64",
      "userId": "03270260930185135567"
     },
     "user_tz": 180
    },
    "id": "SifII8D1R-zH",
    "outputId": "9d9674bd-cc94-47e9-f5be-7f4a225330cf"
   },
   "outputs": [
    {
     "data": {
      "image/png": "[encoded data removed]",
      "text/plain": [
       "<Figure size 432x288 with 1 Axes>"
      ]
     },
     "metadata": {
      "needs_background": "light"
     },
     "output_type": "display_data"
    }
   ],
   "source": [
    "from matplotlib import pyplot as plt\n",
    "ax = sns.boxplot(x = \"demissao\", \n",
    "                 y = \"der_acum_tot\", \n",
    "                 #col = \"demissao\",\n",
    "                 data = dados)  # RUN PLOT   \n",
    "plt.show()\n",
    "plt.clf()\n",
    "plt.close()"
   ]
  },
  {
   "cell_type": "code",
   "execution_count": null,
   "metadata": {
    "colab": {
     "base_uri": "https://localhost:8080/",
     "height": 205
    },
    "executionInfo": {
     "elapsed": 312,
     "status": "ok",
     "timestamp": 1639412151662,
     "user": {
      "displayName": "Larissa Sayuri Futino Castro Dos Santos",
      "photoUrl": "https://lh3.googleusercontent.com/a-/AOh14GjzQGcK2ufV__KxTdNAt_Q676drnxJRe6-8iwjLOEI=s64",
      "userId": "03270260930185135567"
     },
     "user_tz": 180
    },
    "id": "FfcZIV-ulAtW",
    "outputId": "ac9709b3-408c-4494-cdba-1d51184dec42"
   },
   "outputs": [
    {
     "data": {
      "text/html": [
       "<div>\n",
       "<style scoped>\n",
       "    .dataframe tbody tr th:only-of-type {\n",
       "        vertical-align: middle;\n",
       "    }\n",
       "\n",
       "    .dataframe tbody tr th {\n",
       "        vertical-align: top;\n",
       "    }\n",
       "\n",
       "    .dataframe thead th {\n",
       "        text-align: right;\n",
       "    }\n",
       "</style>\n",
       "<table border=\"1\" class=\"dataframe\">\n",
       "  <thead>\n",
       "    <tr style=\"text-align: right;\">\n",
       "      <th></th>\n",
       "      <th>der_acum_tot</th>\n",
       "    </tr>\n",
       "  </thead>\n",
       "  <tbody>\n",
       "    <tr>\n",
       "      <th>min</th>\n",
       "      <td>0.000000</td>\n",
       "    </tr>\n",
       "    <tr>\n",
       "      <th>mean</th>\n",
       "      <td>5.298908</td>\n",
       "    </tr>\n",
       "    <tr>\n",
       "      <th>median</th>\n",
       "      <td>4.000000</td>\n",
       "    </tr>\n",
       "    <tr>\n",
       "      <th>max</th>\n",
       "      <td>21.000000</td>\n",
       "    </tr>\n",
       "    <tr>\n",
       "      <th>std</th>\n",
       "      <td>4.281012</td>\n",
       "    </tr>\n",
       "  </tbody>\n",
       "</table>\n",
       "</div>"
      ],
      "text/plain": [
       "        der_acum_tot\n",
       "min         0.000000\n",
       "mean        5.298908\n",
       "median      4.000000\n",
       "max        21.000000\n",
       "std         4.281012"
      ]
     },
     "execution_count": 96,
     "metadata": {},
     "output_type": "execute_result"
    }
   ],
   "source": [
    "metrics_list = ['min', 'mean', 'median', 'max', 'std']\n",
    "dados.query('demissao == 0').agg({'der_acum_tot': metrics_list})"
   ]
  },
  {
   "cell_type": "code",
   "execution_count": null,
   "metadata": {
    "colab": {
     "base_uri": "https://localhost:8080/",
     "height": 205
    },
    "executionInfo": {
     "elapsed": 289,
     "status": "ok",
     "timestamp": 1639412166217,
     "user": {
      "displayName": "Larissa Sayuri Futino Castro Dos Santos",
      "photoUrl": "https://lh3.googleusercontent.com/a-/AOh14GjzQGcK2ufV__KxTdNAt_Q676drnxJRe6-8iwjLOEI=s64",
      "userId": "03270260930185135567"
     },
     "user_tz": 180
    },
    "id": "iKXzFkQwlE1Q",
    "outputId": "e6a0d21d-f005-4c1a-9556-7ea9c9ea0d5c"
   },
   "outputs": [
    {
     "data": {
      "text/html": [
       "<div>\n",
       "<style scoped>\n",
       "    .dataframe tbody tr th:only-of-type {\n",
       "        vertical-align: middle;\n",
       "    }\n",
       "\n",
       "    .dataframe tbody tr th {\n",
       "        vertical-align: top;\n",
       "    }\n",
       "\n",
       "    .dataframe thead th {\n",
       "        text-align: right;\n",
       "    }\n",
       "</style>\n",
       "<table border=\"1\" class=\"dataframe\">\n",
       "  <thead>\n",
       "    <tr style=\"text-align: right;\">\n",
       "      <th></th>\n",
       "      <th>der_acum_tot</th>\n",
       "    </tr>\n",
       "  </thead>\n",
       "  <tbody>\n",
       "    <tr>\n",
       "      <th>min</th>\n",
       "      <td>0.000000</td>\n",
       "    </tr>\n",
       "    <tr>\n",
       "      <th>mean</th>\n",
       "      <td>7.255319</td>\n",
       "    </tr>\n",
       "    <tr>\n",
       "      <th>median</th>\n",
       "      <td>6.000000</td>\n",
       "    </tr>\n",
       "    <tr>\n",
       "      <th>max</th>\n",
       "      <td>21.000000</td>\n",
       "    </tr>\n",
       "    <tr>\n",
       "      <th>std</th>\n",
       "      <td>4.932008</td>\n",
       "    </tr>\n",
       "  </tbody>\n",
       "</table>\n",
       "</div>"
      ],
      "text/plain": [
       "        der_acum_tot\n",
       "min         0.000000\n",
       "mean        7.255319\n",
       "median      6.000000\n",
       "max        21.000000\n",
       "std         4.932008"
      ]
     },
     "execution_count": 97,
     "metadata": {},
     "output_type": "execute_result"
    }
   ],
   "source": [
    "dados.query('demissao == 1').agg({'der_acum_tot': metrics_list})"
   ]
  },
  {
   "cell_type": "markdown",
   "metadata": {
    "id": "qRiwFOSdduMm"
   },
   "source": [
    "# Há relação entre a demissão de um técnico e o número de derrotas nos últimos 5 jogos?"
   ]
  },
  {
   "cell_type": "code",
   "execution_count": null,
   "metadata": {
    "colab": {
     "base_uri": "https://localhost:8080/",
     "height": 279
    },
    "executionInfo": {
     "elapsed": 311,
     "status": "ok",
     "timestamp": 1639412019980,
     "user": {
      "displayName": "Larissa Sayuri Futino Castro Dos Santos",
      "photoUrl": "https://lh3.googleusercontent.com/a-/AOh14GjzQGcK2ufV__KxTdNAt_Q676drnxJRe6-8iwjLOEI=s64",
      "userId": "03270260930185135567"
     },
     "user_tz": 180
    },
    "id": "ggSFJbbsSBBl",
    "outputId": "a808c691-9758-4c29-8c4d-e0cdb3a16fb1"
   },
   "outputs": [
    {
     "data": {
      "image/png": "[encoded data removed]",
      "text/plain": [
       "<Figure size 432x288 with 1 Axes>"
      ]
     },
     "metadata": {
      "needs_background": "light"
     },
     "output_type": "display_data"
    }
   ],
   "source": [
    "ax = sns.boxplot(x = \"demissao\", \n",
    "                 y = \"der_acum_ult5\", \n",
    "                 #col = \"demissao\",\n",
    "                 data = dados)  # RUN PLOT   \n",
    "plt.show()\n",
    "plt.clf()\n",
    "plt.close()"
   ]
  },
  {
   "cell_type": "code",
   "execution_count": null,
   "metadata": {
    "colab": {
     "base_uri": "https://localhost:8080/",
     "height": 205
    },
    "executionInfo": {
     "elapsed": 424,
     "status": "ok",
     "timestamp": 1639412100476,
     "user": {
      "displayName": "Larissa Sayuri Futino Castro Dos Santos",
      "photoUrl": "https://lh3.googleusercontent.com/a-/AOh14GjzQGcK2ufV__KxTdNAt_Q676drnxJRe6-8iwjLOEI=s64",
      "userId": "03270260930185135567"
     },
     "user_tz": 180
    },
    "id": "vqlE8AcvkrRr",
    "outputId": "246839e7-12ef-474b-8896-6ccdc6301d3b"
   },
   "outputs": [
    {
     "data": {
      "text/html": [
       "<div>\n",
       "<style scoped>\n",
       "    .dataframe tbody tr th:only-of-type {\n",
       "        vertical-align: middle;\n",
       "    }\n",
       "\n",
       "    .dataframe tbody tr th {\n",
       "        vertical-align: top;\n",
       "    }\n",
       "\n",
       "    .dataframe thead th {\n",
       "        text-align: right;\n",
       "    }\n",
       "</style>\n",
       "<table border=\"1\" class=\"dataframe\">\n",
       "  <thead>\n",
       "    <tr style=\"text-align: right;\">\n",
       "      <th></th>\n",
       "      <th>der_acum_ult5</th>\n",
       "    </tr>\n",
       "  </thead>\n",
       "  <tbody>\n",
       "    <tr>\n",
       "      <th>min</th>\n",
       "      <td>0.000000</td>\n",
       "    </tr>\n",
       "    <tr>\n",
       "      <th>mean</th>\n",
       "      <td>1.355511</td>\n",
       "    </tr>\n",
       "    <tr>\n",
       "      <th>median</th>\n",
       "      <td>1.000000</td>\n",
       "    </tr>\n",
       "    <tr>\n",
       "      <th>max</th>\n",
       "      <td>5.000000</td>\n",
       "    </tr>\n",
       "    <tr>\n",
       "      <th>std</th>\n",
       "      <td>1.114127</td>\n",
       "    </tr>\n",
       "  </tbody>\n",
       "</table>\n",
       "</div>"
      ],
      "text/plain": [
       "        der_acum_ult5\n",
       "min          0.000000\n",
       "mean         1.355511\n",
       "median       1.000000\n",
       "max          5.000000\n",
       "std          1.114127"
      ]
     },
     "execution_count": 94,
     "metadata": {},
     "output_type": "execute_result"
    }
   ],
   "source": [
    "metrics_list = ['min', 'mean', 'median', 'max', 'std']\n",
    "dados.query('demissao == 0').agg({'der_acum_ult5': metrics_list})"
   ]
  },
  {
   "cell_type": "code",
   "execution_count": null,
   "metadata": {
    "colab": {
     "base_uri": "https://localhost:8080/",
     "height": 205
    },
    "executionInfo": {
     "elapsed": 339,
     "status": "ok",
     "timestamp": 1639412116544,
     "user": {
      "displayName": "Larissa Sayuri Futino Castro Dos Santos",
      "photoUrl": "https://lh3.googleusercontent.com/a-/AOh14GjzQGcK2ufV__KxTdNAt_Q676drnxJRe6-8iwjLOEI=s64",
      "userId": "03270260930185135567"
     },
     "user_tz": 180
    },
    "id": "sXXcOY3Jk5fc",
    "outputId": "6ba1c0d8-69a9-4519-9b88-7d99ebb58860"
   },
   "outputs": [
    {
     "data": {
      "text/html": [
       "<div>\n",
       "<style scoped>\n",
       "    .dataframe tbody tr th:only-of-type {\n",
       "        vertical-align: middle;\n",
       "    }\n",
       "\n",
       "    .dataframe tbody tr th {\n",
       "        vertical-align: top;\n",
       "    }\n",
       "\n",
       "    .dataframe thead th {\n",
       "        text-align: right;\n",
       "    }\n",
       "</style>\n",
       "<table border=\"1\" class=\"dataframe\">\n",
       "  <thead>\n",
       "    <tr style=\"text-align: right;\">\n",
       "      <th></th>\n",
       "      <th>der_acum_ult5</th>\n",
       "    </tr>\n",
       "  </thead>\n",
       "  <tbody>\n",
       "    <tr>\n",
       "      <th>min</th>\n",
       "      <td>0.000000</td>\n",
       "    </tr>\n",
       "    <tr>\n",
       "      <th>mean</th>\n",
       "      <td>1.978723</td>\n",
       "    </tr>\n",
       "    <tr>\n",
       "      <th>median</th>\n",
       "      <td>2.000000</td>\n",
       "    </tr>\n",
       "    <tr>\n",
       "      <th>max</th>\n",
       "      <td>4.000000</td>\n",
       "    </tr>\n",
       "    <tr>\n",
       "      <th>std</th>\n",
       "      <td>0.966602</td>\n",
       "    </tr>\n",
       "  </tbody>\n",
       "</table>\n",
       "</div>"
      ],
      "text/plain": [
       "        der_acum_ult5\n",
       "min          0.000000\n",
       "mean         1.978723\n",
       "median       2.000000\n",
       "max          4.000000\n",
       "std          0.966602"
      ]
     },
     "execution_count": 95,
     "metadata": {},
     "output_type": "execute_result"
    }
   ],
   "source": [
    "dados.query('demissao == 1').agg({'der_acum_ult5': metrics_list})"
   ]
  }
 ],
 "metadata": {
  "colab": {
   "collapsed_sections": [],
   "name": "03_descritivas.ipynb",
   "provenance": []
  },
  "kernelspec": {
   "display_name": "Python 3",
   "language": "python",
   "name": "python3"
  },
  "language_info": {
   "codemirror_mode": {
    "name": "ipython",
    "version": 3
   },
   "file_extension": ".py",
   "mimetype": "text/x-python",
   "name": "python",
   "nbconvert_exporter": "python",
   "pygments_lexer": "ipython3",
   "version": "3.6.9"
  }
 },
 "nbformat": 4,
 "nbformat_minor": 1
}
